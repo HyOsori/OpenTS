{
 "cells": [
  {
   "cell_type": "markdown",
   "metadata": {},
   "source": [
    "# base line script"
   ]
  },
  {
   "cell_type": "markdown",
   "metadata": {},
   "source": [
    "1. anacoda를 설치\n",
    "2. jupyter notebook 사용법을 익혀야함\n",
    "3. pandas로 데이터 전처리에 대해 익혀야함\n",
    "4. sci-kit learn lib을 통해 머신러닝 알고리즘 적용을 익혀야함\n",
    "5. model tunning 과 validation을 이해하고 다시 3으로 돌아가서 반복적으로 실험을 할 수 있어야함"
   ]
  },
  {
   "cell_type": "code",
   "execution_count": 18,
   "metadata": {
    "collapsed": true
   },
   "outputs": [],
   "source": [
    "import pandas as pd\n",
    "import numpy as np"
   ]
  },
  {
   "cell_type": "markdown",
   "metadata": {},
   "source": [
    "\n",
    "## load data"
   ]
  },
  {
   "cell_type": "code",
   "execution_count": 19,
   "metadata": {
    "collapsed": false
   },
   "outputs": [],
   "source": [
    "file_num = 39\n",
    "merged_df = None"
   ]
  },
  {
   "cell_type": "code",
   "execution_count": 20,
   "metadata": {
    "collapsed": false
   },
   "outputs": [],
   "source": [
    "for each_file in range(file_num):\n",
    "        df = pd.read_csv('%d_2016-11-14.csv' % each_file, index_col='date', parse_dates=['date'])\n",
    "        if merged_df is None:\n",
    "            merged_df = pd.DataFrame(columns=df.columns)\n",
    "        df.sort_index(inplace=True)\n",
    "        merged_df = pd.concat([merged_df, df])"
   ]
  },
  {
   "cell_type": "code",
   "execution_count": 21,
   "metadata": {
    "collapsed": false
   },
   "outputs": [
    {
     "data": {
      "text/html": [
       "<div>\n",
       "<table border=\"1\" class=\"dataframe\">\n",
       "  <thead>\n",
       "    <tr style=\"text-align: right;\">\n",
       "      <th></th>\n",
       "      <th>Unnamed: 0</th>\n",
       "      <th>open</th>\n",
       "      <th>high</th>\n",
       "      <th>low</th>\n",
       "      <th>close</th>\n",
       "      <th>sign</th>\n",
       "      <th>change</th>\n",
       "      <th>diff</th>\n",
       "      <th>volume</th>\n",
       "      <th>diff_vol</th>\n",
       "      <th>...</th>\n",
       "      <th>o_sign</th>\n",
       "      <th>o_change</th>\n",
       "      <th>o_diff</th>\n",
       "      <th>h_sign</th>\n",
       "      <th>h_change</th>\n",
       "      <th>h_diff</th>\n",
       "      <th>l_sign</th>\n",
       "      <th>l_change</th>\n",
       "      <th>l_diff</th>\n",
       "      <th>marketcap</th>\n",
       "    </tr>\n",
       "  </thead>\n",
       "  <tbody>\n",
       "    <tr>\n",
       "      <th>2013-03-20</th>\n",
       "      <td>899.0</td>\n",
       "      <td>935.0</td>\n",
       "      <td>938.0</td>\n",
       "      <td>905.0</td>\n",
       "      <td>922.0</td>\n",
       "      <td>5.0</td>\n",
       "      <td>16.0</td>\n",
       "      <td>-1.71</td>\n",
       "      <td>1166500.0</td>\n",
       "      <td>-12.47</td>\n",
       "      <td>...</td>\n",
       "      <td>5.0</td>\n",
       "      <td>-3.0</td>\n",
       "      <td>-0.32</td>\n",
       "      <td>3.0</td>\n",
       "      <td>0.0</td>\n",
       "      <td>0.00</td>\n",
       "      <td>5.0</td>\n",
       "      <td>-33.0</td>\n",
       "      <td>-3.52</td>\n",
       "      <td>39554.0</td>\n",
       "    </tr>\n",
       "    <tr>\n",
       "      <th>2013-03-21</th>\n",
       "      <td>898.0</td>\n",
       "      <td>906.0</td>\n",
       "      <td>937.0</td>\n",
       "      <td>906.0</td>\n",
       "      <td>918.0</td>\n",
       "      <td>5.0</td>\n",
       "      <td>4.0</td>\n",
       "      <td>-0.43</td>\n",
       "      <td>572162.0</td>\n",
       "      <td>-50.95</td>\n",
       "      <td>...</td>\n",
       "      <td>5.0</td>\n",
       "      <td>-16.0</td>\n",
       "      <td>-1.74</td>\n",
       "      <td>2.0</td>\n",
       "      <td>15.0</td>\n",
       "      <td>1.63</td>\n",
       "      <td>5.0</td>\n",
       "      <td>-16.0</td>\n",
       "      <td>-1.74</td>\n",
       "      <td>39382.0</td>\n",
       "    </tr>\n",
       "    <tr>\n",
       "      <th>2013-03-22</th>\n",
       "      <td>897.0</td>\n",
       "      <td>918.0</td>\n",
       "      <td>934.0</td>\n",
       "      <td>903.0</td>\n",
       "      <td>906.0</td>\n",
       "      <td>5.0</td>\n",
       "      <td>12.0</td>\n",
       "      <td>-1.31</td>\n",
       "      <td>475689.0</td>\n",
       "      <td>-16.86</td>\n",
       "      <td>...</td>\n",
       "      <td>3.0</td>\n",
       "      <td>0.0</td>\n",
       "      <td>0.00</td>\n",
       "      <td>2.0</td>\n",
       "      <td>16.0</td>\n",
       "      <td>1.74</td>\n",
       "      <td>5.0</td>\n",
       "      <td>-15.0</td>\n",
       "      <td>-1.63</td>\n",
       "      <td>38867.0</td>\n",
       "    </tr>\n",
       "  </tbody>\n",
       "</table>\n",
       "<p>3 rows × 28 columns</p>\n",
       "</div>"
      ],
      "text/plain": [
       "            Unnamed: 0   open   high    low  close  sign  change  diff  \\\n",
       "2013-03-20       899.0  935.0  938.0  905.0  922.0   5.0    16.0 -1.71   \n",
       "2013-03-21       898.0  906.0  937.0  906.0  918.0   5.0     4.0 -0.43   \n",
       "2013-03-22       897.0  918.0  934.0  903.0  906.0   5.0    12.0 -1.31   \n",
       "\n",
       "               volume  diff_vol    ...      o_sign  o_change  o_diff  h_sign  \\\n",
       "2013-03-20  1166500.0    -12.47    ...         5.0      -3.0   -0.32     3.0   \n",
       "2013-03-21   572162.0    -50.95    ...         5.0     -16.0   -1.74     2.0   \n",
       "2013-03-22   475689.0    -16.86    ...         3.0       0.0    0.00     2.0   \n",
       "\n",
       "            h_change  h_diff  l_sign  l_change  l_diff  marketcap  \n",
       "2013-03-20       0.0    0.00     5.0     -33.0   -3.52    39554.0  \n",
       "2013-03-21      15.0    1.63     5.0     -16.0   -1.74    39382.0  \n",
       "2013-03-22      16.0    1.74     5.0     -15.0   -1.63    38867.0  \n",
       "\n",
       "[3 rows x 28 columns]"
      ]
     },
     "execution_count": 21,
     "metadata": {},
     "output_type": "execute_result"
    }
   ],
   "source": [
    "merged_df.head(3)"
   ]
  },
  {
   "cell_type": "code",
   "execution_count": null,
   "metadata": {
    "collapsed": true
   },
   "outputs": [],
   "source": []
  },
  {
   "cell_type": "markdown",
   "metadata": {},
   "source": [
    "* 같은 디렉토리내의 csv 파일을 pandas dataframe으로 가져온 것임\n",
    "* 보면 Unnamed와 같은 쓸모 없는 칼럼이 있음 드랍해줍시다"
   ]
  },
  {
   "cell_type": "code",
   "execution_count": 22,
   "metadata": {
    "collapsed": false
   },
   "outputs": [],
   "source": [
    "merged_df.drop(['Unnamed: 0', 'shcode'], axis=1, inplace=True)"
   ]
  },
  {
   "cell_type": "code",
   "execution_count": 23,
   "metadata": {
    "collapsed": false
   },
   "outputs": [
    {
     "data": {
      "text/html": [
       "<div>\n",
       "<table border=\"1\" class=\"dataframe\">\n",
       "  <thead>\n",
       "    <tr style=\"text-align: right;\">\n",
       "      <th></th>\n",
       "      <th>open</th>\n",
       "      <th>high</th>\n",
       "      <th>low</th>\n",
       "      <th>close</th>\n",
       "      <th>sign</th>\n",
       "      <th>change</th>\n",
       "      <th>diff</th>\n",
       "      <th>volume</th>\n",
       "      <th>diff_vol</th>\n",
       "      <th>chdegree</th>\n",
       "      <th>...</th>\n",
       "      <th>o_sign</th>\n",
       "      <th>o_change</th>\n",
       "      <th>o_diff</th>\n",
       "      <th>h_sign</th>\n",
       "      <th>h_change</th>\n",
       "      <th>h_diff</th>\n",
       "      <th>l_sign</th>\n",
       "      <th>l_change</th>\n",
       "      <th>l_diff</th>\n",
       "      <th>marketcap</th>\n",
       "    </tr>\n",
       "  </thead>\n",
       "  <tbody>\n",
       "    <tr>\n",
       "      <th>2013-03-20</th>\n",
       "      <td>935.0</td>\n",
       "      <td>938.0</td>\n",
       "      <td>905.0</td>\n",
       "      <td>922.0</td>\n",
       "      <td>5.0</td>\n",
       "      <td>16.0</td>\n",
       "      <td>-1.71</td>\n",
       "      <td>1166500.0</td>\n",
       "      <td>-12.47</td>\n",
       "      <td>51.99</td>\n",
       "      <td>...</td>\n",
       "      <td>5.0</td>\n",
       "      <td>-3.0</td>\n",
       "      <td>-0.32</td>\n",
       "      <td>3.0</td>\n",
       "      <td>0.0</td>\n",
       "      <td>0.00</td>\n",
       "      <td>5.0</td>\n",
       "      <td>-33.0</td>\n",
       "      <td>-3.52</td>\n",
       "      <td>39554.0</td>\n",
       "    </tr>\n",
       "    <tr>\n",
       "      <th>2013-03-21</th>\n",
       "      <td>906.0</td>\n",
       "      <td>937.0</td>\n",
       "      <td>906.0</td>\n",
       "      <td>918.0</td>\n",
       "      <td>5.0</td>\n",
       "      <td>4.0</td>\n",
       "      <td>-0.43</td>\n",
       "      <td>572162.0</td>\n",
       "      <td>-50.95</td>\n",
       "      <td>63.02</td>\n",
       "      <td>...</td>\n",
       "      <td>5.0</td>\n",
       "      <td>-16.0</td>\n",
       "      <td>-1.74</td>\n",
       "      <td>2.0</td>\n",
       "      <td>15.0</td>\n",
       "      <td>1.63</td>\n",
       "      <td>5.0</td>\n",
       "      <td>-16.0</td>\n",
       "      <td>-1.74</td>\n",
       "      <td>39382.0</td>\n",
       "    </tr>\n",
       "    <tr>\n",
       "      <th>2013-03-22</th>\n",
       "      <td>918.0</td>\n",
       "      <td>934.0</td>\n",
       "      <td>903.0</td>\n",
       "      <td>906.0</td>\n",
       "      <td>5.0</td>\n",
       "      <td>12.0</td>\n",
       "      <td>-1.31</td>\n",
       "      <td>475689.0</td>\n",
       "      <td>-16.86</td>\n",
       "      <td>59.52</td>\n",
       "      <td>...</td>\n",
       "      <td>3.0</td>\n",
       "      <td>0.0</td>\n",
       "      <td>0.00</td>\n",
       "      <td>2.0</td>\n",
       "      <td>16.0</td>\n",
       "      <td>1.74</td>\n",
       "      <td>5.0</td>\n",
       "      <td>-15.0</td>\n",
       "      <td>-1.63</td>\n",
       "      <td>38867.0</td>\n",
       "    </tr>\n",
       "  </tbody>\n",
       "</table>\n",
       "<p>3 rows × 26 columns</p>\n",
       "</div>"
      ],
      "text/plain": [
       "             open   high    low  close  sign  change  diff     volume  \\\n",
       "2013-03-20  935.0  938.0  905.0  922.0   5.0    16.0 -1.71  1166500.0   \n",
       "2013-03-21  906.0  937.0  906.0  918.0   5.0     4.0 -0.43   572162.0   \n",
       "2013-03-22  918.0  934.0  903.0  906.0   5.0    12.0 -1.31   475689.0   \n",
       "\n",
       "            diff_vol  chdegree    ...      o_sign  o_change  o_diff  h_sign  \\\n",
       "2013-03-20    -12.47     51.99    ...         5.0      -3.0   -0.32     3.0   \n",
       "2013-03-21    -50.95     63.02    ...         5.0     -16.0   -1.74     2.0   \n",
       "2013-03-22    -16.86     59.52    ...         3.0       0.0    0.00     2.0   \n",
       "\n",
       "            h_change  h_diff  l_sign  l_change  l_diff  marketcap  \n",
       "2013-03-20       0.0    0.00     5.0     -33.0   -3.52    39554.0  \n",
       "2013-03-21      15.0    1.63     5.0     -16.0   -1.74    39382.0  \n",
       "2013-03-22      16.0    1.74     5.0     -15.0   -1.63    38867.0  \n",
       "\n",
       "[3 rows x 26 columns]"
      ]
     },
     "execution_count": 23,
     "metadata": {},
     "output_type": "execute_result"
    }
   ],
   "source": [
    "merged_df.head(3)"
   ]
  },
  {
   "cell_type": "markdown",
   "metadata": {},
   "source": [
    "## data preprocessing\n",
    "1. 이제 데이터 전처리를 해야하는데 중간에 미싱데이터는 있는지 정규화를 할지 등등을 판단하고 처리해야합니다.\n",
    "2. 위에서 한 정렬과 컬럼제거 작업도 전처리에 포홤됩니다."
   ]
  },
  {
   "cell_type": "code",
   "execution_count": 24,
   "metadata": {
    "collapsed": false
   },
   "outputs": [
    {
     "name": "stdout",
     "output_type": "stream",
     "text": [
      "<class 'pandas.core.frame.DataFrame'>\n",
      "DatetimeIndex: 35122 entries, 2013-03-20 to 2016-11-14\n",
      "Data columns (total 26 columns):\n",
      "open          35122 non-null float64\n",
      "high          35122 non-null float64\n",
      "low           35122 non-null float64\n",
      "close         35122 non-null float64\n",
      "sign          35122 non-null float64\n",
      "change        35122 non-null float64\n",
      "diff          35122 non-null float64\n",
      "volume        35122 non-null float64\n",
      "diff_vol      35122 non-null float64\n",
      "chdegree      35122 non-null float64\n",
      "sojinrate     35122 non-null float64\n",
      "changerate    35122 non-null float64\n",
      "fpvolume      35122 non-null float64\n",
      "covolume      35122 non-null float64\n",
      "value         35122 non-null float64\n",
      "ppvolume      35122 non-null float64\n",
      "o_sign        35122 non-null float64\n",
      "o_change      35122 non-null float64\n",
      "o_diff        35122 non-null float64\n",
      "h_sign        35122 non-null float64\n",
      "h_change      35122 non-null float64\n",
      "h_diff        35122 non-null float64\n",
      "l_sign        35122 non-null float64\n",
      "l_change      35122 non-null float64\n",
      "l_diff        35122 non-null float64\n",
      "marketcap     35122 non-null float64\n",
      "dtypes: float64(26)\n",
      "memory usage: 7.2 MB\n"
     ]
    }
   ],
   "source": [
    "merged_df.info()"
   ]
  },
  {
   "cell_type": "markdown",
   "metadata": {},
   "source": [
    "* 전체 데이터가 3만개 정도 이고 널데이터는 없는 것을 알 수 있음\n",
    "* 무엇을 예측 해볼 것인가? 간단하게 sign(그날 오르고 내렸나를 값으로 가지고 있음 1:상한, 2:상승, 3:보합, 4:하한, 5:하락)을 예측해봅시다.\n",
    "* 현재 sign은 그날 당시를 표현하니 그 다음 날의 sign을 가지고 있다면 맞추고자 하는 레이블을 가지고 있다고 할수 있죠  "
   ]
  },
  {
   "cell_type": "code",
   "execution_count": 25,
   "metadata": {
    "collapsed": true
   },
   "outputs": [],
   "source": [
    "merged_df['y']=merged_df['sign'].shift(-1)"
   ]
  },
  {
   "cell_type": "code",
   "execution_count": 26,
   "metadata": {
    "collapsed": false
   },
   "outputs": [
    {
     "data": {
      "text/html": [
       "<div>\n",
       "<table border=\"1\" class=\"dataframe\">\n",
       "  <thead>\n",
       "    <tr style=\"text-align: right;\">\n",
       "      <th></th>\n",
       "      <th>sign</th>\n",
       "      <th>y</th>\n",
       "    </tr>\n",
       "  </thead>\n",
       "  <tbody>\n",
       "    <tr>\n",
       "      <th>2016-11-10</th>\n",
       "      <td>2.0</td>\n",
       "      <td>2.0</td>\n",
       "    </tr>\n",
       "    <tr>\n",
       "      <th>2016-11-11</th>\n",
       "      <td>2.0</td>\n",
       "      <td>3.0</td>\n",
       "    </tr>\n",
       "    <tr>\n",
       "      <th>2016-11-14</th>\n",
       "      <td>3.0</td>\n",
       "      <td>NaN</td>\n",
       "    </tr>\n",
       "  </tbody>\n",
       "</table>\n",
       "</div>"
      ],
      "text/plain": [
       "            sign    y\n",
       "2016-11-10   2.0  2.0\n",
       "2016-11-11   2.0  3.0\n",
       "2016-11-14   3.0  NaN"
      ]
     },
     "execution_count": 26,
     "metadata": {},
     "output_type": "execute_result"
    }
   ],
   "source": [
    "merged_df[['sign','y']].tail(3)"
   ]
  },
  {
   "cell_type": "code",
   "execution_count": 27,
   "metadata": {
    "collapsed": true
   },
   "outputs": [],
   "source": [
    "merged_df.dropna(inplace=True)"
   ]
  },
  {
   "cell_type": "code",
   "execution_count": 28,
   "metadata": {
    "collapsed": false
   },
   "outputs": [
    {
     "data": {
      "text/html": [
       "<div>\n",
       "<table border=\"1\" class=\"dataframe\">\n",
       "  <thead>\n",
       "    <tr style=\"text-align: right;\">\n",
       "      <th></th>\n",
       "      <th>sign</th>\n",
       "      <th>y</th>\n",
       "    </tr>\n",
       "  </thead>\n",
       "  <tbody>\n",
       "    <tr>\n",
       "      <th>2016-11-09</th>\n",
       "      <td>5.0</td>\n",
       "      <td>2.0</td>\n",
       "    </tr>\n",
       "    <tr>\n",
       "      <th>2016-11-10</th>\n",
       "      <td>2.0</td>\n",
       "      <td>2.0</td>\n",
       "    </tr>\n",
       "    <tr>\n",
       "      <th>2016-11-11</th>\n",
       "      <td>2.0</td>\n",
       "      <td>3.0</td>\n",
       "    </tr>\n",
       "  </tbody>\n",
       "</table>\n",
       "</div>"
      ],
      "text/plain": [
       "            sign    y\n",
       "2016-11-09   5.0  2.0\n",
       "2016-11-10   2.0  2.0\n",
       "2016-11-11   2.0  3.0"
      ]
     },
     "execution_count": 28,
     "metadata": {},
     "output_type": "execute_result"
    }
   ],
   "source": [
    "merged_df[['sign','y']].tail(3)"
   ]
  },
  {
   "cell_type": "markdown",
   "metadata": {},
   "source": [
    "## feature egineering\n",
    "1. 여기가 결국은 모델의 성능 즉. 퍼포먼스와 직결되는 부분인데 아이디어가 필요합니다.\n",
    "2. 예를 들어 위 데이터는 시계열기반의 데이터인데 시계열 특성을 나타내는 컬럼이 부족합니다. 어떻게 시계열을 반영할지 생각해야함"
   ]
  },
  {
   "cell_type": "markdown",
   "metadata": {},
   "source": [
    "## modeling\n",
    "1. 위에서 처리가 다 끝났으면 이제 학습을 시작해봅시다.\n",
    "2. 데이터 특성에 기반해서 어떤 머신러닝 모델을 쓸지 판단할 수 있지만 결국은 실험을 해봐야함"
   ]
  },
  {
   "cell_type": "code",
   "execution_count": 29,
   "metadata": {
    "collapsed": false
   },
   "outputs": [],
   "source": [
    "from sklearn.svm import LinearSVC\n",
    "from sklearn.metrics import accuracy_score\n",
    "from sklearn.grid_search import GridSearchCV\n",
    "from sklearn import svm"
   ]
  },
  {
   "cell_type": "code",
   "execution_count": 30,
   "metadata": {
    "collapsed": false
   },
   "outputs": [
    {
     "name": "stdout",
     "output_type": "stream",
     "text": [
      "Index(['open', 'high', 'low', 'close', 'sign', 'change', 'diff', 'volume',\n",
      "       'diff_vol', 'chdegree', 'sojinrate', 'changerate', 'fpvolume',\n",
      "       'covolume', 'value', 'ppvolume', 'o_sign', 'o_change', 'o_diff',\n",
      "       'h_sign', 'h_change', 'h_diff', 'l_sign', 'l_change', 'l_diff',\n",
      "       'marketcap'],\n",
      "      dtype='object')\n"
     ]
    }
   ],
   "source": [
    "features = merged_df.columns.drop(['y'])\n",
    "print(features)\n",
    "label = 'y'\n",
    "train_X = merged_df[features]\n",
    "train_y = merged_df[label]"
   ]
  },
  {
   "cell_type": "code",
   "execution_count": 31,
   "metadata": {
    "collapsed": false
   },
   "outputs": [],
   "source": [
    "svc_param = {'C':np.logspace(-2,0,3), 'gamma':[0.1,0.3,0.5,0.7,1.0]}"
   ]
  },
  {
   "cell_type": "code",
   "execution_count": null,
   "metadata": {
    "collapsed": false
   },
   "outputs": [],
   "source": [
    "gs_svc = GridSearchCV(svm.SVC(kernel='rbf'),svc_param,cv=5,n_jobs=4,verbose=1)"
   ]
  },
  {
   "cell_type": "code",
   "execution_count": null,
   "metadata": {
    "collapsed": false,
    "scrolled": true
   },
   "outputs": [
    {
     "name": "stdout",
     "output_type": "stream",
     "text": [
      "Fitting 5 folds for each of 15 candidates, totalling 75 fits\n"
     ]
    }
   ],
   "source": [
    "gs_svc.fit(np.array(train_X),np.array(train_y))"
   ]
  },
  {
   "cell_type": "code",
   "execution_count": null,
   "metadata": {
    "collapsed": false
   },
   "outputs": [],
   "source": [
    "print (gs_svc.best_params_, gs_svc.best_score_)"
   ]
  },
  {
   "cell_type": "markdown",
   "metadata": {},
   "source": [
    "* 지금 하는 작업은 학습을 하면서 최적화된 파라미터를 구하는 과정입니다. 다 설명하기 넘나 귀찮 ㅠ 찾아보세요 무엇을 하는지\n",
    "* 위에보이는 는 cross-validation-value입니다. 이게 높으면 일반화된 좋은 모델이라는 뜻이죠 트레이닝 스코어는 어떻게 구할까요?\n",
    "* 모두 sklearn에 함수가 있습니다. 구해봐\n",
    "* 결국 cv값과 트레이닝값을 비교해서 어떻게 feature engineering을 할지 생각하고 반복해야합니다. feature engineering으로 돌아가세요\n",
    "* 참고로 학습된 모델을 사용하는 방법도 있는데 찾아보세요 ㅋㅋ"
   ]
  },
  {
   "cell_type": "code",
   "execution_count": null,
   "metadata": {
    "collapsed": true
   },
   "outputs": [],
   "source": []
  },
  {
   "cell_type": "code",
   "execution_count": null,
   "metadata": {
    "collapsed": true
   },
   "outputs": [],
   "source": []
  },
  {
   "cell_type": "code",
   "execution_count": null,
   "metadata": {
    "collapsed": true
   },
   "outputs": [],
   "source": []
  },
  {
   "cell_type": "code",
   "execution_count": null,
   "metadata": {
    "collapsed": true
   },
   "outputs": [],
   "source": []
  }
 ],
 "metadata": {
  "kernelspec": {
   "display_name": "Python [default]",
   "language": "python",
   "name": "python3"
  },
  "language_info": {
   "codemirror_mode": {
    "name": "ipython",
    "version": 3
   },
   "file_extension": ".py",
   "mimetype": "text/x-python",
   "name": "python",
   "nbconvert_exporter": "python",
   "pygments_lexer": "ipython3",
   "version": "3.5.2"
  }
 },
 "nbformat": 4,
 "nbformat_minor": 0
}
